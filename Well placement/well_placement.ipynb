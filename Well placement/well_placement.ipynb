{
 "cells": [
  {
   "cell_type": "markdown",
   "metadata": {},
   "source": [
    "**Volkov Aleksandr**\\\n",
    "Email: volkov.aleks@gmail.com \\\n",
    "Telegram: @volkov_lxndr\n"
   ]
  },
  {
   "cell_type": "markdown",
   "metadata": {},
   "source": [
    "# **Well placement**"
   ]
  },
  {
   "cell_type": "markdown",
   "metadata": {
    "tags": []
   },
   "source": [
    "In theese task we need to decide on where it is more efficient to drill a new well: "
   ]
  },
  {
   "cell_type": "markdown",
   "metadata": {
    "tags": []
   },
   "source": [
    "Typical steps are: \n",
    "- In the chosen region, collect characteristics for the wells: the quality of oil and the volume of reserves;\n",
    "- Build a model to predict the amount of reserves in new wells;\n",
    "- Select the wells with the highest value estimates;\n",
    "- Determine the region with the maximum revenue (for the selected wells).\n"
   ]
  },
  {
   "cell_type": "markdown",
   "metadata": {},
   "source": [
    "We are provided with oil samples from three regions. The characteristics for each well in the region are already known. We need a model to determine the region where production is most profitable and to analyze the possible profits and risks."
   ]
  },
  {
   "cell_type": "markdown",
   "metadata": {},
   "source": [
    "# 1. Data preprocessing"
   ]
  },
  {
   "cell_type": "code",
   "execution_count": 1,
   "metadata": {},
   "outputs": [],
   "source": [
    "# import all the necessary libraries\n",
    "import pandas as pd\n",
    "from sklearn.model_selection import train_test_split\n",
    "from sklearn.preprocessing import StandardScaler\n",
    "from sklearn.linear_model import LinearRegression\n",
    "from sklearn.metrics import mean_squared_error\n",
    "import numpy as np"
   ]
  },
  {
   "cell_type": "code",
   "execution_count": 2,
   "metadata": {},
   "outputs": [],
   "source": [
    "# process initial data\n",
    "region_0 = pd.read_csv('geo_data_0.csv')\n",
    "region_1 = pd.read_csv('geo_data_1.csv')\n",
    "region_2 = pd.read_csv('geo_data_2.csv')"
   ]
  },
  {
   "cell_type": "code",
   "execution_count": 3,
   "metadata": {},
   "outputs": [
    {
     "data": {
      "text/html": [
       "<div>\n",
       "<style scoped>\n",
       "    .dataframe tbody tr th:only-of-type {\n",
       "        vertical-align: middle;\n",
       "    }\n",
       "\n",
       "    .dataframe tbody tr th {\n",
       "        vertical-align: top;\n",
       "    }\n",
       "\n",
       "    .dataframe thead th {\n",
       "        text-align: right;\n",
       "    }\n",
       "</style>\n",
       "<table border=\"1\" class=\"dataframe\">\n",
       "  <thead>\n",
       "    <tr style=\"text-align: right;\">\n",
       "      <th></th>\n",
       "      <th>id</th>\n",
       "      <th>f0</th>\n",
       "      <th>f1</th>\n",
       "      <th>f2</th>\n",
       "      <th>product</th>\n",
       "    </tr>\n",
       "  </thead>\n",
       "  <tbody>\n",
       "    <tr>\n",
       "      <th>0</th>\n",
       "      <td>txEyH</td>\n",
       "      <td>0.705745</td>\n",
       "      <td>-0.497823</td>\n",
       "      <td>1.221170</td>\n",
       "      <td>105.280062</td>\n",
       "    </tr>\n",
       "    <tr>\n",
       "      <th>1</th>\n",
       "      <td>2acmU</td>\n",
       "      <td>1.334711</td>\n",
       "      <td>-0.340164</td>\n",
       "      <td>4.365080</td>\n",
       "      <td>73.037750</td>\n",
       "    </tr>\n",
       "    <tr>\n",
       "      <th>2</th>\n",
       "      <td>409Wp</td>\n",
       "      <td>1.022732</td>\n",
       "      <td>0.151990</td>\n",
       "      <td>1.419926</td>\n",
       "      <td>85.265647</td>\n",
       "    </tr>\n",
       "  </tbody>\n",
       "</table>\n",
       "</div>"
      ],
      "text/plain": [
       "      id        f0        f1        f2     product\n",
       "0  txEyH  0.705745 -0.497823  1.221170  105.280062\n",
       "1  2acmU  1.334711 -0.340164  4.365080   73.037750\n",
       "2  409Wp  1.022732  0.151990  1.419926   85.265647"
      ]
     },
     "metadata": {},
     "output_type": "display_data"
    },
    {
     "data": {
      "text/html": [
       "<div>\n",
       "<style scoped>\n",
       "    .dataframe tbody tr th:only-of-type {\n",
       "        vertical-align: middle;\n",
       "    }\n",
       "\n",
       "    .dataframe tbody tr th {\n",
       "        vertical-align: top;\n",
       "    }\n",
       "\n",
       "    .dataframe thead th {\n",
       "        text-align: right;\n",
       "    }\n",
       "</style>\n",
       "<table border=\"1\" class=\"dataframe\">\n",
       "  <thead>\n",
       "    <tr style=\"text-align: right;\">\n",
       "      <th></th>\n",
       "      <th>id</th>\n",
       "      <th>f0</th>\n",
       "      <th>f1</th>\n",
       "      <th>f2</th>\n",
       "      <th>product</th>\n",
       "    </tr>\n",
       "  </thead>\n",
       "  <tbody>\n",
       "    <tr>\n",
       "      <th>0</th>\n",
       "      <td>kBEdx</td>\n",
       "      <td>-15.001348</td>\n",
       "      <td>-8.276000</td>\n",
       "      <td>-0.005876</td>\n",
       "      <td>3.179103</td>\n",
       "    </tr>\n",
       "    <tr>\n",
       "      <th>1</th>\n",
       "      <td>62mP7</td>\n",
       "      <td>14.272088</td>\n",
       "      <td>-3.475083</td>\n",
       "      <td>0.999183</td>\n",
       "      <td>26.953261</td>\n",
       "    </tr>\n",
       "    <tr>\n",
       "      <th>2</th>\n",
       "      <td>vyE1P</td>\n",
       "      <td>6.263187</td>\n",
       "      <td>-5.948386</td>\n",
       "      <td>5.001160</td>\n",
       "      <td>134.766305</td>\n",
       "    </tr>\n",
       "  </tbody>\n",
       "</table>\n",
       "</div>"
      ],
      "text/plain": [
       "      id         f0        f1        f2     product\n",
       "0  kBEdx -15.001348 -8.276000 -0.005876    3.179103\n",
       "1  62mP7  14.272088 -3.475083  0.999183   26.953261\n",
       "2  vyE1P   6.263187 -5.948386  5.001160  134.766305"
      ]
     },
     "metadata": {},
     "output_type": "display_data"
    },
    {
     "data": {
      "text/html": [
       "<div>\n",
       "<style scoped>\n",
       "    .dataframe tbody tr th:only-of-type {\n",
       "        vertical-align: middle;\n",
       "    }\n",
       "\n",
       "    .dataframe tbody tr th {\n",
       "        vertical-align: top;\n",
       "    }\n",
       "\n",
       "    .dataframe thead th {\n",
       "        text-align: right;\n",
       "    }\n",
       "</style>\n",
       "<table border=\"1\" class=\"dataframe\">\n",
       "  <thead>\n",
       "    <tr style=\"text-align: right;\">\n",
       "      <th></th>\n",
       "      <th>id</th>\n",
       "      <th>f0</th>\n",
       "      <th>f1</th>\n",
       "      <th>f2</th>\n",
       "      <th>product</th>\n",
       "    </tr>\n",
       "  </thead>\n",
       "  <tbody>\n",
       "    <tr>\n",
       "      <th>0</th>\n",
       "      <td>fwXo0</td>\n",
       "      <td>-1.146987</td>\n",
       "      <td>0.963328</td>\n",
       "      <td>-0.828965</td>\n",
       "      <td>27.758673</td>\n",
       "    </tr>\n",
       "    <tr>\n",
       "      <th>1</th>\n",
       "      <td>WJtFt</td>\n",
       "      <td>0.262778</td>\n",
       "      <td>0.269839</td>\n",
       "      <td>-2.530187</td>\n",
       "      <td>56.069697</td>\n",
       "    </tr>\n",
       "    <tr>\n",
       "      <th>2</th>\n",
       "      <td>ovLUW</td>\n",
       "      <td>0.194587</td>\n",
       "      <td>0.289035</td>\n",
       "      <td>-5.586433</td>\n",
       "      <td>62.871910</td>\n",
       "    </tr>\n",
       "  </tbody>\n",
       "</table>\n",
       "</div>"
      ],
      "text/plain": [
       "      id        f0        f1        f2    product\n",
       "0  fwXo0 -1.146987  0.963328 -0.828965  27.758673\n",
       "1  WJtFt  0.262778  0.269839 -2.530187  56.069697\n",
       "2  ovLUW  0.194587  0.289035 -5.586433  62.871910"
      ]
     },
     "metadata": {},
     "output_type": "display_data"
    }
   ],
   "source": [
    "# check the data format \n",
    "display(region_0.head(3))\n",
    "display(region_1.head(3))\n",
    "display(region_2.head(3))"
   ]
  },
  {
   "cell_type": "code",
   "execution_count": 4,
   "metadata": {},
   "outputs": [
    {
     "name": "stdout",
     "output_type": "stream",
     "text": [
      "<class 'pandas.core.frame.DataFrame'>\n",
      "RangeIndex: 100000 entries, 0 to 99999\n",
      "Data columns (total 5 columns):\n",
      " #   Column   Non-Null Count   Dtype  \n",
      "---  ------   --------------   -----  \n",
      " 0   id       100000 non-null  object \n",
      " 1   f0       100000 non-null  float64\n",
      " 2   f1       100000 non-null  float64\n",
      " 3   f2       100000 non-null  float64\n",
      " 4   product  100000 non-null  float64\n",
      "dtypes: float64(4), object(1)\n",
      "memory usage: 3.8+ MB\n"
     ]
    },
    {
     "data": {
      "text/plain": [
       "None"
      ]
     },
     "metadata": {},
     "output_type": "display_data"
    },
    {
     "name": "stdout",
     "output_type": "stream",
     "text": [
      "<class 'pandas.core.frame.DataFrame'>\n",
      "RangeIndex: 100000 entries, 0 to 99999\n",
      "Data columns (total 5 columns):\n",
      " #   Column   Non-Null Count   Dtype  \n",
      "---  ------   --------------   -----  \n",
      " 0   id       100000 non-null  object \n",
      " 1   f0       100000 non-null  float64\n",
      " 2   f1       100000 non-null  float64\n",
      " 3   f2       100000 non-null  float64\n",
      " 4   product  100000 non-null  float64\n",
      "dtypes: float64(4), object(1)\n",
      "memory usage: 3.8+ MB\n"
     ]
    },
    {
     "data": {
      "text/plain": [
       "None"
      ]
     },
     "metadata": {},
     "output_type": "display_data"
    },
    {
     "name": "stdout",
     "output_type": "stream",
     "text": [
      "<class 'pandas.core.frame.DataFrame'>\n",
      "RangeIndex: 100000 entries, 0 to 99999\n",
      "Data columns (total 5 columns):\n",
      " #   Column   Non-Null Count   Dtype  \n",
      "---  ------   --------------   -----  \n",
      " 0   id       100000 non-null  object \n",
      " 1   f0       100000 non-null  float64\n",
      " 2   f1       100000 non-null  float64\n",
      " 3   f2       100000 non-null  float64\n",
      " 4   product  100000 non-null  float64\n",
      "dtypes: float64(4), object(1)\n",
      "memory usage: 3.8+ MB\n"
     ]
    },
    {
     "data": {
      "text/plain": [
       "None"
      ]
     },
     "metadata": {},
     "output_type": "display_data"
    }
   ],
   "source": [
    "# Checking for  Missing Values\n",
    "display(region_0.info())\n",
    "display(region_1.info())\n",
    "display(region_2.info())"
   ]
  },
  {
   "cell_type": "code",
   "execution_count": 5,
   "metadata": {},
   "outputs": [
    {
     "name": "stdout",
     "output_type": "stream",
     "text": [
      "Number of duplicates for region 0: 0\n",
      "Number of duplicates for region 1: 0\n",
      "Number of duplicates for region 2: 0\n"
     ]
    }
   ],
   "source": [
    "# checking for duplicates\n",
    "print('Number of duplicates for region 0:', region_0.duplicated().sum())\n",
    "print('Number of duplicates for region 1:',region_1.duplicated().sum())\n",
    "print('Number of duplicates for region 2:',region_2.duplicated().sum())"
   ]
  },
  {
   "cell_type": "markdown",
   "metadata": {},
   "source": [
    "**Section summary:**\n",
    "- There are both positive and negative values;\n",
    "- The data are presented as decimal values;\n",
    "- There are no missing values; \n",
    "- There are no duplicates in the datasets either."
   ]
  },
  {
   "cell_type": "markdown",
   "metadata": {},
   "source": [
    "# 2. Model building"
   ]
  },
  {
   "cell_type": "markdown",
   "metadata": {},
   "source": [
    "Let's train the model using the function model_build, which:\n",
    "\n",
    "1) will allocate the features and  target features into separate dataframes. Features: f0, f1, f2. Target features: production (volume of reserves in the well (thousand barrels);\n",
    "2) splits sample into training and validation samples with ratio 75:25;\n",
    "3) builds a linear regression model;\n",
    "4) calculates the average predicted oil production and RMSE of the model."
   ]
  },
  {
   "cell_type": "code",
   "execution_count": 6,
   "metadata": {},
   "outputs": [],
   "source": [
    "# Function of model construction\n",
    "def model_build(data):\n",
    "    \n",
    "    # Separate features and target features in corresponding parameters\n",
    "    features = data[['f0', 'f1', 'f2']]\n",
    "    target = data['product']\n",
    "\n",
    "    # Split data into train and test  (1:3)\n",
    "    features_train, features_valid, target_train, target_valid = train_test_split(\n",
    "        features, target, test_size=0.25, random_state=12345)\n",
    "    print('features train size:', len(features_train))\n",
    "    print('featues valid size:', len(features_valid))\n",
    "    \n",
    "    # Features scaling\n",
    "    scaler = StandardScaler()\n",
    "    scaler.fit(features_train)\n",
    "    features_train_scaled = scaler.transform(features_train)\n",
    "    features_valid_scaled = scaler.transform(features_valid)\n",
    "\n",
    "    # Since target features are quantitative, we will build a classification model: \n",
    "    # linear regression (the others are not sufficiently predictive).\n",
    "    model = LinearRegression()\n",
    "    model.fit(features_train_scaled, target_train)\n",
    "    predictions_valid = model.predict(features_valid_scaled)\n",
    "\n",
    "     # Let's calculate the average cummulutive production volume and RMSE of the model\n",
    "    product_mean = predictions_valid.mean()\n",
    "    RMSE = mean_squared_error(target_valid, predictions_valid, squared = False)\n",
    "    print('Average production:', product_mean)\n",
    "    print('RMSE :', RMSE)\n",
    "    \n",
    "    return (target_valid, predictions_valid, product_mean, RMSE)"
   ]
  },
  {
   "cell_type": "markdown",
   "metadata": {},
   "source": [
    "Let's build a result table: "
   ]
  },
  {
   "cell_type": "code",
   "execution_count": 7,
   "metadata": {},
   "outputs": [
    {
     "name": "stdout",
     "output_type": "stream",
     "text": [
      "0 region\n",
      "features train size: 75000\n",
      "featues valid size: 25000\n",
      "Average production: 92.59256778438035\n",
      "RMSE : 37.5794217150813\n",
      "\n",
      "1 region\n",
      "features train size: 75000\n",
      "featues valid size: 25000\n",
      "Average production: 68.72854689544602\n",
      "RMSE : 0.8930992867756182\n",
      "\n",
      "2 region\n",
      "features train size: 75000\n",
      "featues valid size: 25000\n",
      "Average production: 94.96504596800489\n",
      "RMSE : 40.02970873393434\n",
      "\n"
     ]
    }
   ],
   "source": [
    "results_table = pd.DataFrame(columns=['product_mean', 'RMSE', 'mean_income', 'risk'])\n",
    "\n",
    "list_of_data = [region_0, region_1, region_2]\n",
    "list_of_predictions_valid = [0]*3\n",
    "list_of_target_valid = [0]*3\n",
    "\n",
    "#partially fill the table:\n",
    "for i in range(len(list_of_data)):\n",
    "    print(i, 'region')\n",
    "    list_of_target_valid[i], list_of_predictions_valid[i], results_table.loc[i, 'product_mean'], results_table.loc[i, 'RMSE'] = model_build(list_of_data[i])\n",
    "    print()"
   ]
  },
  {
   "cell_type": "markdown",
   "metadata": {},
   "source": [
    "**Section summary:**\n",
    "\n",
    "- Regions 0 and 2 have the highest vaues of predicted hydrocarbon reserves (92 and 95 thousand barrels, respectively), while Region 1 has 68 thousand barrels.\n",
    "\n",
    "- Along with high values of the predicted hydrocarbon reserves , Region 0 and 1 are characterized by high mean squared error. Region 1 has lowest RMSE metric values, whereas  Regions 0 and 2  have greater RMSE value. \n"
   ]
  },
  {
   "cell_type": "markdown",
   "metadata": {},
   "source": [
    " # 3 Income calculations"
   ]
  },
  {
   "cell_type": "markdown",
   "metadata": {},
   "source": [
    "To calculate profits, let's keep all the key values in separate variables.\n",
    "\n",
    "1) When exploring the region, 500 points are investigated, from which the best 200 development wells are selected using machine learning; \\\n",
    "2) The budget for well development in the region is 10 billion;\\\n",
    "3) The income from each unit is 450 thousand;\\\n",
    "4) Probability of money loss must be less than 2.5%."
   ]
  },
  {
   "cell_type": "code",
   "execution_count": 8,
   "metadata": {},
   "outputs": [
    {
     "name": "stdout",
     "output_type": "stream",
     "text": [
      "Minimum profitable product volume: 111.11111111111111\n"
     ]
    }
   ],
   "source": [
    "WELLS = 500 # units are investigated while region exploration\n",
    "BEST_WELLS = 200 # wells with the best characteristics\n",
    "BUDGET = 10e9 # budget for well drilling per region \n",
    "REVENUE_PER_KBBL = 450000 # income from selling product unit\n",
    "RISK_THRESHOLD = .025 # treshold of miney loss probability \n",
    "production_min = BUDGET/BEST_WELLS/REVENUE_PER_KBBL\n",
    "print('Minimum profitable product volume:',production_min)"
   ]
  },
  {
   "cell_type": "markdown",
   "metadata": {},
   "source": [
    "**Section summary:**\n",
    "\n",
    "- The minimum cumulative oil volume  for break-even development is 111 000 barrels, what exceeds the predicted oil reserves for all the regions."
   ]
  },
  {
   "cell_type": "markdown",
   "metadata": {},
   "source": [
    "# 4 Risk and profit calculations"
   ]
  },
  {
   "cell_type": "code",
   "execution_count": 9,
   "metadata": {},
   "outputs": [],
   "source": [
    "state = np.random.RandomState(12345)"
   ]
  },
  {
   "cell_type": "code",
   "execution_count": 12,
   "metadata": {},
   "outputs": [],
   "source": [
    "def income_calculation(target, predictions):\n",
    "    # chose wells with the maximum oil deposits predicted\n",
    "    predictions_sorted = predictions.sort_values(ascending=False)\n",
    "    # total volume\n",
    "    selected_wells = target[predictions_sorted.index][:(BEST_WELLS-1)]\n",
    "    total_production = selected_wells.sum()\n",
    "    # profit\n",
    "    income = (total_production * REVENUE_PER_KBBL - BUDGET)/10e6\n",
    "    return income\n",
    "\n",
    "#function for the money loss risk estimation\n",
    "def region_analys(targets, predictions):\n",
    "    # Bootstrap technique with the 1000 samples\n",
    "    incomes = []\n",
    "    predictions = pd.Series(predictions)\n",
    "    targets = pd.Series(targets.reset_index(drop=True))\n",
    "    for h in range(1000):\n",
    "        subsample_predict = predictions.sample(n=WELLS, replace = True, random_state = state)\n",
    "        subsample_target = targets[subsample_predict.index]\n",
    "        incomes.append(income_calculation(subsample_target, subsample_predict))\n",
    "    incomes=pd.Series(incomes)\n",
    "    \n",
    "    # Average income, 95% confidencce interval, money loss risk \n",
    "    mean_income = incomes.mean()\n",
    "    dov_int = (incomes.quantile(0.025), incomes.quantile(0.975))\n",
    "    risk = (incomes < 0).mean()*100\n",
    "    print('Average income for', i, 'region', mean_income)\n",
    "    print('95% confidence interval for', i, 'region', dov_int)\n",
    "    if risk<RISK_THRESHOLD*100:\n",
    "        print('The risk of money loss for', i, 'region is less than 2,5%; Risk:', risk, '%')\n",
    "    else:\n",
    "        print('The risk of money loss for', i, 'region is greater than 2,5%; Risk:', risk, '%')\n",
    "    return mean_income, risk"
   ]
  },
  {
   "cell_type": "code",
   "execution_count": 13,
   "metadata": {},
   "outputs": [
    {
     "name": "stdout",
     "output_type": "stream",
     "text": [
      "0 region\n",
      "Average income for 0 region 38.031729576840036\n",
      "95% confidence interval for 0 region (-15.376413173489198, 92.88623820333875)\n",
      "The risk of money loss for 0 region is greater than 2,5%; Risk: 7.3 %\n",
      "\n",
      "1 region\n",
      "Average income for 1 region 46.72445589442629\n",
      "95% confidence interval for 1 region (4.100770011942993, 89.5065834118917)\n",
      "The risk of money loss for 1 region is less than 2,5%; Risk: 1.6 %\n",
      "\n",
      "2 region\n",
      "Average income for 2 region 36.54977280466331\n",
      "95% confidence interval for 2 region (-25.15688825619246, 90.77281565517713)\n",
      "The risk of money loss for 2 region is greater than 2,5%; Risk: 11.5 %\n",
      "\n"
     ]
    }
   ],
   "source": [
    "for i in range(3):\n",
    "    print(i, 'region')\n",
    "    results_table.loc[i, 'mean_income'], results_table.loc[i, 'risk'] = region_analys(\n",
    "        list_of_target_valid[i], list_of_predictions_valid[i])\n",
    "    print()"
   ]
  },
  {
   "cell_type": "code",
   "execution_count": 14,
   "metadata": {},
   "outputs": [
    {
     "data": {
      "text/html": [
       "<div>\n",
       "<style scoped>\n",
       "    .dataframe tbody tr th:only-of-type {\n",
       "        vertical-align: middle;\n",
       "    }\n",
       "\n",
       "    .dataframe tbody tr th {\n",
       "        vertical-align: top;\n",
       "    }\n",
       "\n",
       "    .dataframe thead th {\n",
       "        text-align: right;\n",
       "    }\n",
       "</style>\n",
       "<table border=\"1\" class=\"dataframe\">\n",
       "  <thead>\n",
       "    <tr style=\"text-align: right;\">\n",
       "      <th></th>\n",
       "      <th>product_mean</th>\n",
       "      <th>RMSE</th>\n",
       "      <th>mean_income</th>\n",
       "      <th>risk</th>\n",
       "    </tr>\n",
       "  </thead>\n",
       "  <tbody>\n",
       "    <tr>\n",
       "      <th>0</th>\n",
       "      <td>92.592568</td>\n",
       "      <td>37.579422</td>\n",
       "      <td>38.03173</td>\n",
       "      <td>7.3</td>\n",
       "    </tr>\n",
       "    <tr>\n",
       "      <th>1</th>\n",
       "      <td>68.728547</td>\n",
       "      <td>0.893099</td>\n",
       "      <td>46.724456</td>\n",
       "      <td>1.6</td>\n",
       "    </tr>\n",
       "    <tr>\n",
       "      <th>2</th>\n",
       "      <td>94.965046</td>\n",
       "      <td>40.029709</td>\n",
       "      <td>36.549773</td>\n",
       "      <td>11.5</td>\n",
       "    </tr>\n",
       "  </tbody>\n",
       "</table>\n",
       "</div>"
      ],
      "text/plain": [
       "  product_mean       RMSE mean_income  risk\n",
       "0    92.592568  37.579422    38.03173   7.3\n",
       "1    68.728547   0.893099   46.724456   1.6\n",
       "2    94.965046  40.029709   36.549773  11.5"
      ]
     },
     "execution_count": 14,
     "metadata": {},
     "output_type": "execute_result"
    }
   ],
   "source": [
    "results_table"
   ]
  },
  {
   "cell_type": "markdown",
   "metadata": {},
   "source": [
    "**Section summary:**\n",
    "\n",
    "Based on the results we can c that the money loss probability  of less than 2.5% is only for region 1. Average revenue - 48 millions. "
   ]
  },
  {
   "cell_type": "markdown",
   "metadata": {},
   "source": [
    "# Conclusion"
   ]
  },
  {
   "cell_type": "markdown",
   "metadata": {},
   "source": [
    "During the project the following steps were carrried out:\\\n",
    "Initial data analysis (there are both positive and negative values, the data are presented as decimal values; no missing values, incorrect names of features and data types were found; no duplicates in the datasets were also presented).\n",
    "\n",
    "It was found that Regions 0 and 2 have the highest predicted volumes (92 000 and 95 000 barrels, respectively), while Region 1 has 68000 barrels. On a par with the high values of the predicted crude stock, Region 0 and 1 are characterized by a high prediction error. The RMSE metric for region 1 is the lowest (0,9), whereas for Regions 0 and 2 the model prediction error is high, at 38 and 40, respectively.\n",
    "\n",
    "We found that the minimum amount of feedstock for break-even development is 111,000 barrels, which exceeds the predicted feedstock for all the regions.\n",
    "\n",
    "Linear regression models were built to predict oil reserves in 3 regions. Based on the models predictions, region 1 is the recommended region to develop 200 wells:\n",
    "\n",
    "Region 1 is characterized by:\n",
    "\n",
    "- Predicted average revenue: 48 millions;\n",
    "\n",
    "- There is 95% probability that income from this field will be in the range from 9.2 to 91.4 mln;\n",
    "\n",
    "- Risk of money loss: 0.8%;\n",
    "\n",
    "Prediction model has high enough accuracy, error of prediction of oil reserves = 0.9 (RMSE metric)."
   ]
  },
  {
   "cell_type": "markdown",
   "metadata": {},
   "source": [
    "**Fell free to contact and ask questions!**"
   ]
  }
 ],
 "metadata": {
  "kernelspec": {
   "display_name": "Python 3 (ipykernel)",
   "language": "python",
   "name": "python3"
  },
  "language_info": {
   "codemirror_mode": {
    "name": "ipython",
    "version": 3
   },
   "file_extension": ".py",
   "mimetype": "text/x-python",
   "name": "python",
   "nbconvert_exporter": "python",
   "pygments_lexer": "ipython3",
   "version": "3.9.13"
  }
 },
 "nbformat": 4,
 "nbformat_minor": 4
}
